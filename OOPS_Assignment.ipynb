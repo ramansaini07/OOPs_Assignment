{
  "nbformat": 4,
  "nbformat_minor": 0,
  "metadata": {
    "colab": {
      "provenance": []
    },
    "kernelspec": {
      "name": "python3",
      "display_name": "Python 3"
    },
    "language_info": {
      "name": "python"
    }
  },
  "cells": [
    {
      "cell_type": "code",
      "execution_count": null,
      "metadata": {
        "id": "tqHqONr4VcIS"
      },
      "outputs": [],
      "source": []
    },
    {
      "cell_type": "markdown",
      "source": [
        "\n",
        "\n",
        "\n",
        "\n",
        "\n",
        "\n",
        "\n",
        "\n",
        "### **Pyhton OOPs theory**  \n",
        "\n",
        "\n",
        "---\n",
        "\n",
        "\n",
        "\n",
        "1. **What is Object-Oriented Programming (OOP)?**  \n",
        "   OOP is a programming paradigm that organizes code using objects and classes. It provides principles such as **encapsulation, inheritance, polymorphism, and abstraction** to promote modularity and reusability.  \n",
        "\n",
        "2. **What is a class in OOP?**  \n",
        "   A class is a blueprint for creating objects. It defines attributes (data) and methods (functions) that operate on the data.  \n",
        "   ```python\n",
        "   class Car:\n",
        "       def __init__(self, brand, model):\n",
        "           self.brand = brand\n",
        "           self.model = model\n",
        "   ```\n",
        "\n",
        "3. **What is an object in OOP?**  \n",
        "   An object is an instance of a class. It holds specific data and behaviors.  \n",
        "   ```python\n",
        "   my_car = Car(\"Toyota\", \"Corolla\")\n",
        "   ```\n",
        "\n",
        "\n",
        "\n",
        "4. **What is the difference between abstraction and encapsulation?**  \n",
        "   - **Encapsulation**: Hides internal details and restricts direct access.  \n",
        "   - **Abstraction**: Hides complexity by exposing only essential features.  \n",
        "\n",
        "5. **What are dunder methods in Python?**  \n",
        "   Dunder (double underscore) methods are special methods with `__` before and after their name (e.g., `__init__`, `__str__`). They provide built-in behaviors to objects.  \n",
        "\n",
        "6. **Explain the concept of inheritance in OOP.**  \n",
        "   Inheritance allows a class to derive properties and behavior from another class.  \n",
        "   ```python\n",
        "   class Animal:\n",
        "       def speak(self):\n",
        "           return \"Some sound\"\n",
        "   class Dog(Animal):\n",
        "       def speak(self):\n",
        "           return \"Bark\"\n",
        "   ```\n",
        "\n",
        "7. **What is polymorphism in OOP?**  \n",
        "   Polymorphism allows the same interface to be used for different data types or classes.  \n",
        "   ```python\n",
        "   class Bird:\n",
        "       def fly(self):\n",
        "           return \"Flies high\"\n",
        "   class Airplane:\n",
        "       def fly(self):\n",
        "           return \"Flies using engines\"\n",
        "   ```\n",
        "\n",
        "8. **How is encapsulation achieved in Python?**  \n",
        "   Encapsulation is achieved using private (`__var`), protected (`_var`), and public attributes.  \n",
        "   ```python\n",
        "   class BankAccount:\n",
        "       def __init__(self, balance):\n",
        "           self.__balance = balance  # Private variable\n",
        "   ```\n",
        "\n",
        "9. **What is a constructor in Python?**  \n",
        "   A constructor (`__init__`) initializes object attributes when an object is created.  \n",
        "   ```python\n",
        "   class Person:\n",
        "       def __init__(self, name):\n",
        "           self.name = name\n",
        "   ```\n",
        "\n",
        "\n",
        "\n",
        "10. **What are class and static methods in Python?**  \n",
        "   - **Class method (`@classmethod`)**: Operates on the class itself.  \n",
        "   - **Static method (`@staticmethod`)**: Doesn’t require access to class or instance data.  \n",
        "   ```python\n",
        "   class Example:\n",
        "       @classmethod\n",
        "       def class_method(cls):\n",
        "           return \"Class Method\"\n",
        "       @staticmethod\n",
        "       def static_method():\n",
        "           return \"Static Method\"\n",
        "   ```\n",
        "\n",
        "11. **What is method overloading in Python?**  \n",
        "    Python does not support traditional method overloading. Instead, we use default parameters:  \n",
        "    ```python\n",
        "    class Math:\n",
        "        def add(self, a, b=0):\n",
        "            return a + b\n",
        "    ```\n",
        "\n",
        "12. **What is method overriding in OOP?**  \n",
        "    A subclass can override a method from its parent class.  \n",
        "    ```python\n",
        "    class Parent:\n",
        "        def show(self):\n",
        "            return \"Parent class\"\n",
        "    class Child(Parent):\n",
        "        def show(self):\n",
        "            return \"Child class\"\n",
        "    ```\n",
        "\n",
        "13. **What is a property decorator in Python?**  \n",
        "    `@property` makes a method behave like an attribute.  \n",
        "    ```python\n",
        "    class Employee:\n",
        "        def __init__(self, salary):\n",
        "            self._salary = salary\n",
        "        @property\n",
        "        def salary(self):\n",
        "            return self._salary\n",
        "    ```\n",
        "\n",
        "14. **Why is polymorphism important in OOP?**  \n",
        "    It allows code flexibility and reusability by enabling different classes to share a common interface.\n",
        "\n",
        "15. **What is an abstract class in Python?**  \n",
        "    An abstract class (defined using `ABC`) cannot be instantiated and must be subclassed.  \n",
        "    ```python\n",
        "    from abc import ABC, abstractmethod\n",
        "    class Shape(ABC):\n",
        "        @abstractmethod\n",
        "        def area(self):\n",
        "            pass\n",
        "    ```\n",
        "\n",
        "16. **What are the advantages of OOP?**  \n",
        "    - Code **reusability** (via inheritance).  \n",
        "    - **Encapsulation** for data protection.  \n",
        "    - **Polymorphism** for flexible design.  \n",
        "    - **Abstraction** to hide complex details.  \n",
        "\n",
        "17. **What is the difference between a class variable and an instance variable?**  \n",
        "    - **Class variable**: Shared across all instances.  \n",
        "    - **Instance variable**: Unique to each instance.  \n",
        "    ```python\n",
        "    class Example:\n",
        "        class_var = 10  # Class variable\n",
        "        def __init__(self, value):\n",
        "            self.instance_var = value  # Instance variable\n",
        "    ```\n",
        "\n",
        "18. **What is multiple inheritance in Python?**  \n",
        "    A class can inherit from multiple classes.  \n",
        "    ```python\n",
        "    class A:\n",
        "        def method_a(self):\n",
        "            return \"A\"\n",
        "    class B:\n",
        "        def method_b(self):\n",
        "            return \"B\"\n",
        "    class C(A, B):\n",
        "        pass\n",
        "    ```\n",
        "\n",
        "19. **Explain the purpose of `__str__` and `__repr__` methods in Python.**  \n",
        "    - `__str__()`: Returns a user-friendly string representation.  \n",
        "    - `__repr__()`: Returns an official string representation for debugging.  \n",
        "\n",
        "20. **What is the significance of the `super()` function in Python?**  \n",
        "    `super()` allows calling a parent class method inside a subclass.  \n",
        "    ```python\n",
        "    class Parent:\n",
        "        def show(self):\n",
        "            return \"Parent\"\n",
        "    class Child(Parent):\n",
        "        def show(self):\n",
        "            return super().show() + \" & Child\"\n",
        "    ```\n",
        "\n",
        "21. **What is the significance of the `__del__` method in Python?**  \n",
        "    `__del__()` is a destructor method, called when an object is deleted.  \n",
        "    ```python\n",
        "    class Example:\n",
        "        def __del__(self):\n",
        "            print(\"Object deleted\")\n",
        "    ```\n",
        "\n",
        "22. **What is the difference between `@staticmethod` and `@classmethod` in Python?**  \n",
        "    - `@staticmethod`: Independent of the class and instance.  \n",
        "    - `@classmethod`: Operates on the class itself using `cls`.  \n",
        "\n",
        "23. **How does polymorphism work in Python with inheritance?**  \n",
        "    - Different classes implement the same method differently.  \n",
        "    ```python\n",
        "    class Bird:\n",
        "        def fly(self):\n",
        "            return \"Flies\"\n",
        "    class Penguin(Bird):\n",
        "        def fly(self):\n",
        "            return \"Cannot fly\"\n",
        "    ```\n",
        "\n",
        "24. **What is method chaining in Python OOP?**  \n",
        "    Calling multiple methods on an object sequentially.  \n",
        "    ```python\n",
        "    class Example:\n",
        "        def method1(self):\n",
        "            print(\"Method 1\")\n",
        "            return self\n",
        "        def method2(self):\n",
        "            print(\"Method 2\")\n",
        "            return self\n",
        "    obj = Example()\n",
        "    obj.method1().method2()\n",
        "    ```\n",
        "\n",
        "25. **What is the purpose of the `__call__` method in Python?**  \n",
        "    The `__call__` method allows an instance of a class to be called like a function.  \n",
        "    ```python\n",
        "    class Example:\n",
        "        def __call__(self, x):\n",
        "            return x * 2\n",
        "    obj = Example()\n",
        "    print(obj(10))  # Output: 20\n",
        "    ```\n",
        "\n",
        "---\n"
      ],
      "metadata": {
        "id": "ZynLJV3vVlZ-"
      }
    },
    {
      "cell_type": "code",
      "source": [
        "#1. Create a parent class Animal with a method speak() that prints a generic message. Create a child class Dog that overrides the speak() method to print \"Bark!\".\n",
        "class Animal:\n",
        "  def speak(self):\n",
        "    print(\"Animal speaking\")\n",
        "\n",
        "class Dog(Animal):\n",
        "  def speak(self):\n",
        "    print(\"Bark!\")\n",
        "\n",
        "dog = Dog()\n",
        "print(dog.speak())"
      ],
      "metadata": {
        "colab": {
          "base_uri": "https://localhost:8080/"
        },
        "id": "d2cmAXD4WRtb",
        "outputId": "1408c87b-dd7d-467b-aecf-1464374942d8"
      },
      "execution_count": 2,
      "outputs": [
        {
          "output_type": "stream",
          "name": "stdout",
          "text": [
            "Bark!\n",
            "None\n"
          ]
        }
      ]
    },
    {
      "cell_type": "code",
      "source": [
        "# 2. Write a program to create an abstract class Shape with a method area(). Derive classes Circle and Rectangle from it and implement the area() method in both.\n",
        "from abc import ABC, abstractmethod\n",
        "class shape:\n",
        "  @abstractmethod\n",
        "  def area(self):\n",
        "    pass\n",
        "class circle(shape):\n",
        "  def area(self,r):\n",
        "    return 3.14*r*r\n",
        "class rectangle(shape):\n",
        "  def area(self,l,b):\n",
        "    return l*b\n",
        "\n",
        "c=circle()\n",
        "print(c.area(5))\n",
        "r=rectangle()\n",
        "print(r.area(2,3))"
      ],
      "metadata": {
        "colab": {
          "base_uri": "https://localhost:8080/"
        },
        "id": "OxdtqccWWlg0",
        "outputId": "54feec0d-4f6a-4955-e489-66695c62dbd5"
      },
      "execution_count": 7,
      "outputs": [
        {
          "output_type": "stream",
          "name": "stdout",
          "text": [
            "78.5\n",
            "6\n"
          ]
        }
      ]
    },
    {
      "cell_type": "code",
      "source": [
        "# 3. Implement a multi-level inheritance scenario where a class Vehicle has an attribute type. Derive a class Car and further derive a class ElectricCar that adds a battery attribute.\n",
        "class Vehicle:\n",
        "  def __init__(self,type):\n",
        "    self.type=type\n",
        "class Car(Vehicle):\n",
        "  def __init__(self,type,model):\n",
        "    super().__init__(type)\n",
        "    self.model=model\n",
        "\n",
        "class ElectricCar(Car):\n",
        "  def __init__(self,type,model,battery):\n",
        "    super().__init__(type,model)\n",
        "    self.battery=battery\n",
        "\n",
        "car = Car('sedan','Toyota')\n",
        "print(car.type)\n",
        "print(car.model)\n",
        "ElectricCar = ElectricCar('electric','Tesla','1000kwh')\n",
        "print(ElectricCar.type)\n",
        "print(ElectricCar.model)\n",
        "print(ElectricCar.battery)"
      ],
      "metadata": {
        "colab": {
          "base_uri": "https://localhost:8080/"
        },
        "id": "vTb5mve5XOJS",
        "outputId": "54e9a5b6-4d3e-446f-f6c2-5f9fd0f4eae3"
      },
      "execution_count": 10,
      "outputs": [
        {
          "output_type": "stream",
          "name": "stdout",
          "text": [
            "sedan\n",
            "Toyota\n",
            "electric\n",
            "Tesla\n",
            "1000kwh\n"
          ]
        }
      ]
    },
    {
      "cell_type": "code",
      "source": [
        "#4. Demonstrate polymorphism by creating a base class Bird with a method fly(). Create two derived classes Sparrow and Penguin that override the fly() method.\n",
        "class Bird:\n",
        "  def fly(self):\n",
        "    print(\"Bird is flying\")\n",
        "\n",
        "class Sparrow(Bird):\n",
        "  def fly(self):\n",
        "    print(\"Sparrow is flying\")\n",
        "\n",
        "class Penguin(Bird):\n",
        "  def fly(self):\n",
        "    print(\"Penguin is not flying\")\n",
        "\n",
        "bird=Bird()\n",
        "bird.fly()\n",
        "sparrow=Sparrow()\n",
        "sparrow.fly()\n",
        "penguin=Penguin()\n",
        "penguin.fly()\n"
      ],
      "metadata": {
        "colab": {
          "base_uri": "https://localhost:8080/"
        },
        "id": "QuT9LWQqYnlr",
        "outputId": "6467b248-3078-43a5-85e6-656ef8670c30"
      },
      "execution_count": 11,
      "outputs": [
        {
          "output_type": "stream",
          "name": "stdout",
          "text": [
            "Bird is flying\n",
            "Sparrow is flying\n",
            "Penguin is not flying\n"
          ]
        }
      ]
    },
    {
      "cell_type": "code",
      "source": [
        "#5. Write a program to demonstrate encapsulation by creating a class BankAccount with private attributes balance and methods to deposit, withdraw, and check balance.\n",
        "class BankAccount:\n",
        "  def __init__(self,balance):\n",
        "    self.__balance=balance\n",
        "  def deposit(self,amount):\n",
        "    self.__balance+=amount\n",
        "  def withdraw(self,amount):\n",
        "    if self.__balance>=amount:\n",
        "      self.__balance-=amount\n",
        "    else:\n",
        "      print(\"Insufficient balance\")\n",
        "  def get_balance(self): # Added a method to access the balance\n",
        "    return self.__balance\n",
        "\n",
        "account = BankAccount(1000)\n",
        "print(account.get_balance())\n",
        "print(account.deposit(500))\n",
        "print(account.withdraw(2000))\n",
        "print(account.get_balance())"
      ],
      "metadata": {
        "colab": {
          "base_uri": "https://localhost:8080/"
        },
        "id": "NXSykm2RZWpO",
        "outputId": "808aa828-e9ac-4661-8d7f-ec3635b8b94f"
      },
      "execution_count": 17,
      "outputs": [
        {
          "output_type": "stream",
          "name": "stdout",
          "text": [
            "1000\n",
            "None\n",
            "Insufficient balance\n",
            "None\n",
            "1500\n"
          ]
        }
      ]
    },
    {
      "cell_type": "code",
      "source": [
        "#6. Demonstrate runtime polymorphism using a method play() in a base class Instrument. Derive classes Guitar and Piano that implement their own version of play().\n",
        "class Instrument:\n",
        "  def play(self):\n",
        "    print(\"Instrument is playing\")\n",
        "\n",
        "class Guitar(Instrument):\n",
        "  def play(self):\n",
        "    print(\"Guitar is playing\")\n",
        "\n",
        "class Piano(Instrument):\n",
        "  def play(self):\n",
        "    print(\"Piano is playing\")\n",
        "IO=Instrument()\n",
        "IO.play()\n",
        "G=Guitar()\n",
        "G.play()\n",
        "P=Piano()\n",
        "P.play()\n",
        "\n",
        "\n"
      ],
      "metadata": {
        "colab": {
          "base_uri": "https://localhost:8080/"
        },
        "id": "mPnxIm_sZ6Kc",
        "outputId": "749f8329-03b9-4c77-858f-ac73ab8d94d5"
      },
      "execution_count": 18,
      "outputs": [
        {
          "output_type": "stream",
          "name": "stdout",
          "text": [
            "Instrument is playing\n",
            "Guitar is playing\n",
            "Piano is playing\n"
          ]
        }
      ]
    },
    {
      "cell_type": "code",
      "source": [
        "#7. Create a class MathOperations with a class method add_numbers() to add two numbers and a static method subtract_numbers() to subtract two numbers.\n",
        "class MathOperations:\n",
        "  @classmethod\n",
        "  def add_numbers(cls,a,b):\n",
        "    return a+b\n",
        "  @staticmethod\n",
        "  def subtract_numbers(a,b):\n",
        "    return a-b\n",
        "print(MathOperations.add_numbers(2,3))\n",
        "print(MathOperations.subtract_numbers(2,3))"
      ],
      "metadata": {
        "colab": {
          "base_uri": "https://localhost:8080/"
        },
        "id": "QWuBz27tbUrx",
        "outputId": "ff35691f-fb0d-47c4-da06-f168d2418f56"
      },
      "execution_count": 19,
      "outputs": [
        {
          "output_type": "stream",
          "name": "stdout",
          "text": [
            "5\n",
            "-1\n"
          ]
        }
      ]
    },
    {
      "cell_type": "code",
      "source": [
        "#8. Implement a class Person with a class method to count the total number of persons created.\n",
        "class Person:\n",
        "  count=0\n",
        "  def __init__(self,name):\n",
        "    self.name=name\n",
        "    Person.count+=1\n",
        "  @classmethod\n",
        "  def get_count(cls):\n",
        "    return cls.count\n",
        "p1=Person(\"John\")\n",
        "p2=Person(\"Jane\")\n",
        "print(Person.get_count())\n",
        "print(p1.name)\n",
        "print(p2.name)"
      ],
      "metadata": {
        "colab": {
          "base_uri": "https://localhost:8080/"
        },
        "id": "hHBPjtN4bah2",
        "outputId": "5a4bd815-fdf0-485c-86b2-f5ff7acac48f"
      },
      "execution_count": 21,
      "outputs": [
        {
          "output_type": "stream",
          "name": "stdout",
          "text": [
            "2\n",
            "John\n",
            "Jane\n"
          ]
        }
      ]
    },
    {
      "cell_type": "code",
      "source": [
        "#9. Write a class Fraction with attributes numerator and denominator. Override the str method to display the fraction as \"numerator/denominator\".\n",
        "class Fraction:\n",
        "  def __init__(self,numerator,denominator):\n",
        "    self.numerator=numerator\n",
        "    self.denominator=denominator\n",
        "  def __str__(self):\n",
        "    return f\"{self.numerator}/{self.denominator}\"\n",
        "f=Fraction(1,2)\n",
        "print(f)"
      ],
      "metadata": {
        "colab": {
          "base_uri": "https://localhost:8080/"
        },
        "id": "HZ9SoZT3baZF",
        "outputId": "d000a523-bd5c-4069-a54b-b7538961c360"
      },
      "execution_count": 22,
      "outputs": [
        {
          "output_type": "stream",
          "name": "stdout",
          "text": [
            "1/2\n"
          ]
        }
      ]
    },
    {
      "cell_type": "code",
      "source": [
        "#10. Demonstrate operator overloading by creating a class Vector and overriding the add method to add two vectors.\n",
        "class Vector:\n",
        "  def __init__(self,x,y):\n",
        "    self.x=x\n",
        "    self.y=y\n",
        "  def __add__(self,other):\n",
        "    return Vector(self.x+other.x,self.y+other.y)\n",
        "\n",
        "v1=Vector(1,2)\n",
        "v2=Vector(3,4)\n",
        "v3=v1+v2\n",
        "print(v3.x,v3.y)\n"
      ],
      "metadata": {
        "colab": {
          "base_uri": "https://localhost:8080/"
        },
        "id": "9Dh57RJnbaNw",
        "outputId": "cb1b9413-2d27-41f8-b9c4-8ab315ef84a2"
      },
      "execution_count": 23,
      "outputs": [
        {
          "output_type": "stream",
          "name": "stdout",
          "text": [
            "4 6\n"
          ]
        }
      ]
    },
    {
      "cell_type": "code",
      "source": [
        "#11. Create a class Person with attributes name and age. Add a method greet() that prints \"Hello, my name is {name} and I am {age} years old.\"\n",
        "class Person:\n",
        " def __init__(self,name,age):\n",
        "  self.name=name\n",
        "  self.age=age\n",
        " def greet(self):\n",
        "  print(f\"Hello, my name is {self.name} and I am {self.age} years old.\")\n",
        "\n",
        "person = Person(\"john alia\",80)\n",
        "person.greet()"
      ],
      "metadata": {
        "colab": {
          "base_uri": "https://localhost:8080/"
        },
        "id": "fFiItin9dVrB",
        "outputId": "3b1c2f00-a672-44c4-f90e-ed9d196bf62d"
      },
      "execution_count": 29,
      "outputs": [
        {
          "output_type": "stream",
          "name": "stdout",
          "text": [
            "Hello, my name is john alia and I am 80 years old.\n"
          ]
        }
      ]
    },
    {
      "cell_type": "code",
      "source": [
        "# 12. Implement a class Student with attributes name and grades. Create a method average_grade() to compute the average of the grades\n",
        "class Student:\n",
        "  def __init__(self,name,grades):\n",
        "    self.name=name\n",
        "    self.grades=grades\n",
        "  def average_grade(self):\n",
        "    return sum(self.grades)/len(self.grades)\n",
        "\n",
        "student=Student(\"john alia\",[90,80,70])\n",
        "print(student.name)\n",
        "print(student.grades)\n",
        "print(\"Average grade :\", student.average_grade())"
      ],
      "metadata": {
        "colab": {
          "base_uri": "https://localhost:8080/"
        },
        "id": "f1wXSr-Pe2j0",
        "outputId": "b9b12ddc-04b5-4d28-96cb-9e6ed82de41d"
      },
      "execution_count": 34,
      "outputs": [
        {
          "output_type": "stream",
          "name": "stdout",
          "text": [
            "john alia\n",
            "[90, 80, 70]\n",
            "Average grade : 80.0\n"
          ]
        }
      ]
    },
    {
      "cell_type": "code",
      "source": [
        "#13. Create a class Rectangle with methods set_dimensions() to set the dimensions and area() to calculate the area\n",
        "class Rectangle:\n",
        "  def __init__(self,length,width):\n",
        "    self.length=length\n",
        "    self.width=width\n",
        "  def set_dimensions(self,length,width):\n",
        "    self.length=length\n",
        "    self.width=width\n",
        "  def area(self):\n",
        "    return self.length*self.width\n",
        "\n",
        "r=Rectangle(2,3)\n",
        "print(r.area())\n",
        "r.set_dimensions(4,5)\n",
        "print(r.area())"
      ],
      "metadata": {
        "colab": {
          "base_uri": "https://localhost:8080/"
        },
        "id": "68oG6XZJgacF",
        "outputId": "6780d852-0887-4c67-917f-1bfb2f0ab232"
      },
      "execution_count": 35,
      "outputs": [
        {
          "output_type": "stream",
          "name": "stdout",
          "text": [
            "6\n",
            "20\n"
          ]
        }
      ]
    },
    {
      "cell_type": "code",
      "source": [
        "# 14. Create a class Employee with a method calculate_salary() that computes the salary based on hours worked and hourly rate. Create a derived class Manager that adds a bonus to the salary\n",
        "class Employee:\n",
        "  def __init__(self,name,hours_worked,hourly_rate):\n",
        "    self.name=name\n",
        "    self.hours_worked=hours_worked\n",
        "    self.hourly_rate=hourly_rate\n",
        "  def calculate_salary(self):\n",
        "    return self.hours_worked*self.hourly_rate\n",
        "\n",
        "class Manager(Employee):\n",
        "  def __init__(self,name,hours_worked,hourly_rate,bonus):\n",
        "    super().__init__(name,hours_worked,hourly_rate)\n",
        "    self.bonus=bonus\n",
        "  def calculate_salary(self):\n",
        "    return super().calculate_salary()+self.bonus\n",
        "employee = Employee(\"john alia\",12,15)\n",
        "Manager = Manager(\"john\",12,15,1000)\n",
        "print(employee.calculate_salary())\n",
        "print(Manager.calculate_salary())"
      ],
      "metadata": {
        "colab": {
          "base_uri": "https://localhost:8080/"
        },
        "id": "qZqtpqg-hp3t",
        "outputId": "957a4383-2ef9-4768-f610-39778acec19d"
      },
      "execution_count": 8,
      "outputs": [
        {
          "output_type": "stream",
          "name": "stdout",
          "text": [
            "180\n",
            "1180\n"
          ]
        }
      ]
    },
    {
      "cell_type": "code",
      "source": [
        "#15. Create a class Product with attributes name, price, and quantity. Implement a method total_price() that calculates the total price of the product.\n",
        "class product:\n",
        "  def __init__(self,name,price,quantity):\n",
        "    self.name=name\n",
        "    self.price=price\n",
        "    self.quantity=quantity\n",
        "  def total_price(self):\n",
        "    return self.price*self.quantity\n",
        "product=product(\"apple\",10,2)\n",
        "print(product.name)\n",
        "print(product.price)\n",
        "print(product.quantity)\n",
        "print(product.total_price())"
      ],
      "metadata": {
        "colab": {
          "base_uri": "https://localhost:8080/"
        },
        "id": "LuVuRL18AtP6",
        "outputId": "7638bbfc-fe7f-443c-97b4-80e48fb6e530"
      },
      "execution_count": 11,
      "outputs": [
        {
          "output_type": "stream",
          "name": "stdout",
          "text": [
            "apple\n",
            "10\n",
            "2\n",
            "20\n"
          ]
        }
      ]
    },
    {
      "cell_type": "code",
      "source": [
        "#16. Create a class Animal with an abstract method sound(). Create two derived classes Cow and Sheep that implement the sound() method.\n",
        "from abc import ABC, abstractmethod\n",
        "class Animal(ABC):\n",
        "  @abstractmethod\n",
        "  def sound(self):\n",
        "    pass\n",
        "class Cow(Animal):\n",
        "  def sound(self):\n",
        "    print(\"gaaa.....\")\n",
        "class Sheep(Animal):\n",
        "  def sound(self):\n",
        "    print(\"baaa....\")\n",
        "cow=Cow()\n",
        "cow.sound()\n",
        "sheep=Sheep()\n",
        "sheep.sound()"
      ],
      "metadata": {
        "colab": {
          "base_uri": "https://localhost:8080/"
        },
        "id": "giMcAiarCcYq",
        "outputId": "43b4f32f-693e-446b-a078-56e49dc84b7a"
      },
      "execution_count": 13,
      "outputs": [
        {
          "output_type": "stream",
          "name": "stdout",
          "text": [
            "gaaa.....\n",
            "baaa....\n"
          ]
        }
      ]
    },
    {
      "cell_type": "code",
      "source": [
        "# 17. Create a class Book with attributes title, author, and year_published. Add a method get_book_info() that returns a formatted string with the book's details.\n",
        "class Book:\n",
        "  def __init__(self,title,author,year_published):\n",
        "    self.title=title\n",
        "    self.author=author\n",
        "    self.year_published=year_published\n",
        "  def get_book_info(self):\n",
        "    print(f\"the title of book is {self.title} written by {self.author} in the year{self.year_published}\")\n",
        "book = Book(\"The Alchemist\", \"Paulo Coelho\", 1988)\n",
        "print(book.get_book_info())"
      ],
      "metadata": {
        "colab": {
          "base_uri": "https://localhost:8080/"
        },
        "id": "0bHIzwnbDRKA",
        "outputId": "985e7bde-e516-454e-c77d-93ccd7ebdeb0"
      },
      "execution_count": 19,
      "outputs": [
        {
          "output_type": "stream",
          "name": "stdout",
          "text": [
            "the title of book is The Alchemist written by Paulo Coelho in the year1988\n",
            "None\n"
          ]
        }
      ]
    },
    {
      "cell_type": "code",
      "source": [
        "# 18. Create a class House with attributes address and price. Create a derived class Mansion that adds and attribute number_of_rooms.\n",
        "class House:\n",
        "  def __init__(self,address,price):\n",
        "    self.address=address\n",
        "    self.price=price\n",
        "class Mansion(House):\n",
        "  def __init__(self,address,price,number_of_rooms):\n",
        "    super().__init__(address,price)\n",
        "    self.number_of_rooms=number_of_rooms\n",
        "mansion=Mansion(\"123 Main St\",1000000,5)\n",
        "print(mansion.address)\n",
        "print(mansion.price)\n",
        "print(mansion.number_of_rooms)"
      ],
      "metadata": {
        "colab": {
          "base_uri": "https://localhost:8080/"
        },
        "id": "92PUhTp9Dtj4",
        "outputId": "8af4f1d3-8104-4f37-9fe3-46228d51f9bd"
      },
      "execution_count": 21,
      "outputs": [
        {
          "output_type": "stream",
          "name": "stdout",
          "text": [
            "123 Main St\n",
            "1000000\n",
            "5\n"
          ]
        }
      ]
    },
    {
      "cell_type": "code",
      "source": [],
      "metadata": {
        "id": "oFKAK_XNE4Qn"
      },
      "execution_count": null,
      "outputs": []
    }
  ]
}